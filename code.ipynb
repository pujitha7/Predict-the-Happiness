{
 "cells": [
  {
   "cell_type": "code",
   "execution_count": 1,
   "metadata": {},
   "outputs": [
    {
     "name": "stderr",
     "output_type": "stream",
     "text": [
      "Using TensorFlow backend.\n",
      "C:\\ProgramData\\Anaconda2\\envs\\deeplearning\\lib\\site-packages\\gensim\\utils.py:860: UserWarning: detected Windows; aliasing chunkize to chunkize_serial\n",
      "  warnings.warn(\"detected Windows; aliasing chunkize to chunkize_serial\")\n"
     ]
    }
   ],
   "source": [
    "from __future__ import print_function\n",
    "import numpy as np\n",
    "import pandas as pd\n",
    "\n",
    "from keras.utils.np_utils import to_categorical\n",
    "\n",
    "from keras.preprocessing import sequence\n",
    "from keras.models import Sequential\n",
    "from keras.layers import Input, Embedding, LSTM, Dense,Dropout,GRU,Masking\n",
    "from keras.models import Model\n",
    "from nltk.tokenize import word_tokenize\n",
    "from nltk.tokenize import RegexpTokenizer\n",
    "\n",
    "from gensim.models import Word2Vec\n",
    "\n",
    "from sklearn.ensemble import GradientBoostingClassifier\n",
    "from sklearn.metrics import confusion_matrix\n"
   ]
  },
  {
   "cell_type": "code",
   "execution_count": 2,
   "metadata": {
    "collapsed": true
   },
   "outputs": [],
   "source": [
    "train = pd.read_csv(\"train.csv\")\n",
    "test = pd.read_csv(\"test.csv\")\n",
    "train = pd.concat([train, test])"
   ]
  },
  {
   "cell_type": "code",
   "execution_count": 3,
   "metadata": {},
   "outputs": [
    {
     "data": {
      "text/html": [
       "<div>\n",
       "<style scoped>\n",
       "    .dataframe tbody tr th:only-of-type {\n",
       "        vertical-align: middle;\n",
       "    }\n",
       "\n",
       "    .dataframe tbody tr th {\n",
       "        vertical-align: top;\n",
       "    }\n",
       "\n",
       "    .dataframe thead th {\n",
       "        text-align: right;\n",
       "    }\n",
       "</style>\n",
       "<table border=\"1\" class=\"dataframe\">\n",
       "  <thead>\n",
       "    <tr style=\"text-align: right;\">\n",
       "      <th></th>\n",
       "      <th>Description</th>\n",
       "    </tr>\n",
       "  </thead>\n",
       "  <tbody>\n",
       "    <tr>\n",
       "      <th>0</th>\n",
       "      <td>The room was kind of clean but had a VERY stro...</td>\n",
       "    </tr>\n",
       "    <tr>\n",
       "      <th>1</th>\n",
       "      <td>I stayed at the Crown Plaza April -- - April -...</td>\n",
       "    </tr>\n",
       "    <tr>\n",
       "      <th>2</th>\n",
       "      <td>I booked this hotel through Hotwire at the low...</td>\n",
       "    </tr>\n",
       "    <tr>\n",
       "      <th>3</th>\n",
       "      <td>Stayed here with husband and sons on the way t...</td>\n",
       "    </tr>\n",
       "    <tr>\n",
       "      <th>4</th>\n",
       "      <td>My girlfriends and I stayed here to celebrate ...</td>\n",
       "    </tr>\n",
       "  </tbody>\n",
       "</table>\n",
       "</div>"
      ],
      "text/plain": [
       "                                         Description\n",
       "0  The room was kind of clean but had a VERY stro...\n",
       "1  I stayed at the Crown Plaza April -- - April -...\n",
       "2  I booked this hotel through Hotwire at the low...\n",
       "3  Stayed here with husband and sons on the way t...\n",
       "4  My girlfriends and I stayed here to celebrate ..."
      ]
     },
     "execution_count": 3,
     "metadata": {},
     "output_type": "execute_result"
    }
   ],
   "source": [
    "\n",
    "y_train = pd.read_csv(\"train.csv\")\n",
    "y_train.drop('User_ID', inplace=True, axis=1)\n",
    "y_train.drop('Browser_Used', inplace=True, axis=1)\n",
    "y_train.drop('Device_Used', inplace=True, axis=1)\n",
    "y_train.drop('Description',inplace = True,axis=1)\n",
    "\n",
    "train.drop('User_ID', inplace=True, axis=1)\n",
    "train.drop('Browser_Used', inplace=True, axis=1)\n",
    "train.drop('Device_Used', inplace=True, axis=1)\n",
    "train.drop('Is_Response', inplace=True, axis=1)\n",
    "train.head()\n",
    "\n"
   ]
  },
  {
   "cell_type": "code",
   "execution_count": 4,
   "metadata": {
    "collapsed": true
   },
   "outputs": [],
   "source": [
    "train = np.array(train['Description'])\n",
    "for i in range(0,68336):\n",
    "    train[i] = train[i].lower()\n",
    "\n",
    "tokenizer = RegexpTokenizer(r'\\w+')\n",
    "for i in range(0,68336):\n",
    "    train[i] = tokenizer.tokenize(train[i])\n"
   ]
  },
  {
   "cell_type": "code",
   "execution_count": 6,
   "metadata": {
    "collapsed": true
   },
   "outputs": [],
   "source": [
    "model99 = Word2Vec(train,size =100,window = 5,min_count =1)"
   ]
  },
  {
   "cell_type": "code",
   "execution_count": 7,
   "metadata": {
    "collapsed": true
   },
   "outputs": [],
   "source": [
    "\n",
    "c=np.zeros([68336,400,100])"
   ]
  },
  {
   "cell_type": "code",
   "execution_count": 8,
   "metadata": {
    "collapsed": true
   },
   "outputs": [],
   "source": [
    "\n",
    "b = np.zeros([100])\n",
    "for i in range(0,68336):\n",
    "    a = model99.wv[train[i]]\n",
    "    if(len(a) >400):\n",
    "        a = a[0:400]\n",
    "    for j in range(0,(400-len(a))):\n",
    "        a = np.vstack([a,b])\n",
    "    c[i] = a\n",
    "del model99\n",
    "del a \n",
    "del b\n",
    "del train"
   ]
  },
  {
   "cell_type": "code",
   "execution_count": 9,
   "metadata": {
    "collapsed": true
   },
   "outputs": [],
   "source": [
    "y_train = pd.get_dummies(y_train,columns=['Is_Response'])\n",
    "x_train = c[0:38932]\n",
    "x_test = c[38932:]\n",
    "y_train = y_train['Is_Response_happy']\n",
    "del c"
   ]
  },
  {
   "cell_type": "code",
   "execution_count": 165,
   "metadata": {},
   "outputs": [
    {
     "name": "stdout",
     "output_type": "stream",
     "text": [
      "_________________________________________________________________\n",
      "Layer (type)                 Output Shape              Param #   \n",
      "=================================================================\n",
      "input_16 (InputLayer)        (None, 400, 100)          0         \n",
      "_________________________________________________________________\n",
      "masking_16 (Masking)         (None, 400, 100)          0         \n",
      "_________________________________________________________________\n",
      "lstm_19 (LSTM)               (None, 256)               365568    \n",
      "_________________________________________________________________\n",
      "dense_26 (Dense)             (None, 64)                16448     \n",
      "_________________________________________________________________\n",
      "dense_27 (Dense)             (None, 1)                 65        \n",
      "=================================================================\n",
      "Total params: 382,081\n",
      "Trainable params: 382,081\n",
      "Non-trainable params: 0\n",
      "_________________________________________________________________\n"
     ]
    }
   ],
   "source": [
    "main_input = Input(shape = (400,100))\n",
    "mask=Masking(mask_value=0.0)(main_input)\n",
    "lstm_out = LSTM(256)(mask)\n",
    "out=Dense(64)(lstm_out)\n",
    "output = Dense(1,activation = 'sigmoid')(out)\n",
    "model = Model(inputs=main_input,outputs=output)\n",
    "model.compile('adam', 'binary_crossentropy', metrics=['accuracy'])\n",
    "model.summary()"
   ]
  },
  {
   "cell_type": "code",
   "execution_count": 166,
   "metadata": {},
   "outputs": [
    {
     "name": "stdout",
     "output_type": "stream",
     "text": [
      "Epoch 1/4\n",
      "38932/38932 [==============================] - 3310s 85ms/step - loss: 0.4055 - acc: 0.8185\n",
      "Epoch 2/4\n",
      "38932/38932 [==============================] - 3251s 84ms/step - loss: 0.2916 - acc: 0.8803\n",
      "Epoch 3/4\n",
      "38932/38932 [==============================] - 3263s 84ms/step - loss: 0.2586 - acc: 0.8953\n",
      "Epoch 4/4\n",
      "38932/38932 [==============================] - 3242s 83ms/step - loss: 0.2343 - acc: 0.9059\n"
     ]
    },
    {
     "data": {
      "text/plain": [
       "<keras.callbacks.History at 0x9ff9b8bef0>"
      ]
     },
     "execution_count": 166,
     "metadata": {},
     "output_type": "execute_result"
    }
   ],
   "source": [
    "model.fit(x_train, y_train,batch_size=64,epochs= 4)"
   ]
  },
  {
   "cell_type": "code",
   "execution_count": 167,
   "metadata": {},
   "outputs": [
    {
     "data": {
      "text/plain": [
       "array([[301,  40],\n",
       "       [ 39, 710]], dtype=int64)"
      ]
     },
     "execution_count": 167,
     "metadata": {},
     "output_type": "execute_result"
    }
   ],
   "source": [
    "main_input2 = Input(shape = (400,100))\n",
    "mask2=Masking(mask_value=0.0)(main_input2)\n",
    "lstm_out2 = LSTM(256,weights = model.layers[2].get_weights())(mask2)\n",
    "out2=Dense(64,weights = model.layers[3].get_weights())(lstm_out2)\n",
    "model2 = Model(inputs=main_input2,outputs=out2)\n",
    "\n",
    "train_transformed = model2.predict(x_train)\n",
    "test_transformed = model2.predict(x_test)\n",
    "\n",
    "other_data = pd.read_csv(\"Kish_train.csv\")\n",
    "other_data = np.array(other_data)\n",
    "\n",
    "train_transformed = np.concatenate([train_transformed,other_data],axis=1)\n",
    "\n",
    "train_xgb = train_transformed[0:37842]\n",
    "valid_xgb = train_transformed[37842:]\n",
    "\n",
    "y_train_xgb = y_train[0:37842]\n",
    "y_valid_xgb = y_train[37842:]\n"
   ]
  },
  {
   "cell_type": "code",
   "execution_count": 208,
   "metadata": {},
   "outputs": [
    {
     "name": "stdout",
     "output_type": "stream",
     "text": [
      "_________________________________________________________________\n",
      "Layer (type)                 Output Shape              Param #   \n",
      "=================================================================\n",
      "input_21 (InputLayer)        (None, 73)                0         \n",
      "_________________________________________________________________\n",
      "dropout_3 (Dropout)          (None, 73)                0         \n",
      "_________________________________________________________________\n",
      "dense_39 (Dense)             (None, 100)               7400      \n",
      "_________________________________________________________________\n",
      "dropout_4 (Dropout)          (None, 100)               0         \n",
      "_________________________________________________________________\n",
      "dense_40 (Dense)             (None, 20)                2020      \n",
      "_________________________________________________________________\n",
      "dense_41 (Dense)             (None, 1)                 21        \n",
      "=================================================================\n",
      "Total params: 9,441\n",
      "Trainable params: 9,441\n",
      "Non-trainable params: 0\n",
      "_________________________________________________________________\n"
     ]
    }
   ],
   "source": [
    "main_input3 = Input(shape = (73,))\n",
    "drop0 = Dropout(0.2)(main_input3)\n",
    "deninp1=Dense(100)(drop0)\n",
    "drop1 = Dropout(0.5)(deninp1)\n",
    "deninp2=Dense(20)(drop1)\n",
    "output3 = Dense(1,activation = 'sigmoid')(deninp2)\n",
    "model3 = Model(inputs=main_input3,outputs=output3)\n",
    "model3.compile('adam', 'binary_crossentropy', metrics=['accuracy'])\n",
    "model3.summary()"
   ]
  },
  {
   "cell_type": "code",
   "execution_count": 212,
   "metadata": {},
   "outputs": [
    {
     "data": {
      "text/plain": [
       "<keras.callbacks.History at 0xa5374df208>"
      ]
     },
     "execution_count": 212,
     "metadata": {},
     "output_type": "execute_result"
    }
   ],
   "source": [
    "model3.fit(train_xgb,y_train_xgb,batch_size=64,epochs= 2000,validation_data=[valid_xgb,y_valid_xgb])"
   ]
  },
  {
   "cell_type": "code",
   "execution_count": 213,
   "metadata": {
    "collapsed": true
   },
   "outputs": [],
   "source": [
    "result = model3.predict(test_transformed)"
   ]
  },
  {
   "cell_type": "code",
   "execution_count": 183,
   "metadata": {},
   "outputs": [
    {
     "data": {
      "text/plain": [
       "(29404, 73)"
      ]
     },
     "execution_count": 183,
     "metadata": {},
     "output_type": "execute_result"
    }
   ],
   "source": [
    "np.savetxt(X=result,fname=\"result_with_masking_v15.csv\")"
   ]
  }
 ],
 "metadata": {
  "kernelspec": {
   "display_name": "Python 3",
   "language": "python",
   "name": "python3"
  },
  "language_info": {
   "codemirror_mode": {
    "name": "ipython",
    "version": 3
   },
   "file_extension": ".py",
   "mimetype": "text/x-python",
   "name": "python",
   "nbconvert_exporter": "python",
   "pygments_lexer": "ipython3",
   "version": "3.6.3"
  }
 },
 "nbformat": 4,
 "nbformat_minor": 2
}
